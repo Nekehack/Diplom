{
 "cells": [
  {
   "cell_type": "code",
   "execution_count": null,
   "id": "a5ecb3c5-71de-4b11-99cf-58fd15819cfc",
   "metadata": {},
   "outputs": [],
   "source": [
    "import shutil\n",
    "from PIL import Image\n",
    "import numpy as np\n",
    "from tensorflow.keras.models import load_model\n",
    "from tensorflow.keras.preprocessing.image import img_to_array, load_img\n",
    "\n",
    "model1 = load_model('/Users/ilia/brainTumorClassification/my_model.keras')\n",
    "model2 = load_model('/Users/ilia/tumorDetection/my_model2.keras')\n",
    "\n",
    "health_path = '/Users/ilia/DataSetForDiplom/Health'\n",
    "tumor_path = '/Users/ilia/DataSetForDiplom/Tumor'\n",
    "anomaly_path = '/Users/ilia/DataSetForDiplom/Anomaly'\n",
    "\n",
    "for i in range(1, 2081):\n",
    "    img_path = f'/Users/ilia/tumorDetection/archive-2/Brain Tumor Data Set/Brain Tumor Data Set/Brain Tumor/Cancer ({i}).j'\n",
    "    \n",
    "    image1 = load_img(img_path, target_size = (150,150))\n",
    "    image1 = img_to_array(image1)\n",
    "    image1 = np.expand_dims(image1, axis = 0)\n",
    "    image1 = image1 / 255.0\n",
    "    \n",
    "    image2 = load_img(img_path, target_size = (224,224))\n",
    "    image2 = img_to_array(image2)\n",
    "    image2 = np.expand_dims(image2, axis = 0)\n",
    "    image2 = image2 / 255.0\n",
    "\n",
    "    predictions1 = model1.predict(image1)\n",
    "    # print('Number:', i ,'Predictions: ', predictions)\n",
    "    \n",
    "    predictions2 = model2.predict(image2)\n",
    "    # print('Number:', i ,'Predictions: ', predictions1)\n",
    "    # if predictions1 > 0.5 and  predictions2[0][1] > 0.5:\n",
    "    #     print('Yes')\n",
    "    # else:\n",
    "    #     print('No')\n",
    "\n",
    "    if predictions1 > 0.5 and predictions2[0][1] > 0.5:\n",
    "        shutil.move(img_path, tumor_path)\n",
    "    elif predictions1 <0.5 and predictions2[0][1] < 0.5:\n",
    "        shutil.move(img_path, health_path)\n",
    "    else:\n",
    "        shutil.move(img_path, anomaly_path)"
   ]
  },
  {
   "cell_type": "code",
   "execution_count": null,
   "id": "b006c09b-e726-4f10-988b-38fe211cdf79",
   "metadata": {},
   "outputs": [],
   "source": []
  }
 ],
 "metadata": {
  "kernelspec": {
   "display_name": "Python 3 (ipykernel)",
   "language": "python",
   "name": "python3"
  },
  "language_info": {
   "codemirror_mode": {
    "name": "ipython",
    "version": 3
   },
   "file_extension": ".py",
   "mimetype": "text/x-python",
   "name": "python",
   "nbconvert_exporter": "python",
   "pygments_lexer": "ipython3",
   "version": "3.11.7"
  }
 },
 "nbformat": 4,
 "nbformat_minor": 5
}
